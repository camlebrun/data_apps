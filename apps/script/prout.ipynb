{
 "cells": [
  {
   "cell_type": "code",
   "execution_count": 8,
   "metadata": {},
   "outputs": [],
   "source": [
    "import pandas as pd\n",
    "df = pd.read_csv('/Users/camille/repo/Hetic/repo_M2/data_apps/data/olist_orders_dataset.csv')"
   ]
  },
  {
   "cell_type": "code",
   "execution_count": 13,
   "metadata": {},
   "outputs": [
    {
     "data": {
      "text/plain": [
       "Index(['order_id', 'customer_id', 'order_status', 'order_purchase_timestamp',\n",
       "       'order_approved_at', 'order_delivered_carrier_date',\n",
       "       'order_delivered_customer_date', 'order_estimated_delivery_date'],\n",
       "      dtype='object')"
      ]
     },
     "execution_count": 13,
     "metadata": {},
     "output_type": "execute_result"
    }
   ],
   "source": [
    "df.columns  \n"
   ]
  },
  {
   "cell_type": "code",
   "execution_count": 15,
   "metadata": {},
   "outputs": [
    {
     "data": {
      "text/plain": [
       "customer_id\n",
       "9ef432eb6251297304e76186b10a928d    1\n",
       "413f7e58270a32396af030a075b924be    1\n",
       "eb4350b67a0264c67e5e06a038e4afbb    1\n",
       "622b07d262d545d16efbd4363a89cb91    1\n",
       "c701fbfa77791abd05eef9eacf7ea7a8    1\n",
       "99ce553a3ac79b26416f2adca143760e    1\n",
       "50900ea3519ead20da341b41081736e9    1\n",
       "a4fe94a051d268fbbe8e4ca932ebc460    1\n",
       "ba712872211b52224c61d5bedfc1bfcf    1\n",
       "f8b67d327058afa39382991d7173b1d7    1\n",
       "Name: count, dtype: int64"
      ]
     },
     "execution_count": 15,
     "metadata": {},
     "output_type": "execute_result"
    }
   ],
   "source": [
    "df['customer_id'].value_counts(\n",
    "    ascending=False).head(10)"
   ]
  },
  {
   "cell_type": "code",
   "execution_count": 16,
   "metadata": {},
   "outputs": [
    {
     "data": {
      "text/plain": [
       "99441"
      ]
     },
     "execution_count": 16,
     "metadata": {},
     "output_type": "execute_result"
    }
   ],
   "source": [
    "df['customer_id'].count()"
   ]
  },
  {
   "cell_type": "code",
   "execution_count": null,
   "metadata": {},
   "outputs": [],
   "source": [
    "rfm = df.groupby('customer_id').agg({'InvoiceDate' : lambda day : (now - day.max()).days,\n",
    "                               'InvoiceNo': lambda num : len(num),\n",
    "                              'Total_Price': lambda price : price.sum()\n",
    "                             \n",
    "                             \n",
    "                             })\n",
    "col_list = ['Recency','Frequency','Monetary']\n",
    "rfm.columns = col_list"
   ]
  }
 ],
 "metadata": {
  "kernelspec": {
   "display_name": "datapps_venv",
   "language": "python",
   "name": "python3"
  },
  "language_info": {
   "codemirror_mode": {
    "name": "ipython",
    "version": 3
   },
   "file_extension": ".py",
   "mimetype": "text/x-python",
   "name": "python",
   "nbconvert_exporter": "python",
   "pygments_lexer": "ipython3",
   "version": "3.11.6"
  }
 },
 "nbformat": 4,
 "nbformat_minor": 2
}
